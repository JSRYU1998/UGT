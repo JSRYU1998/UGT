{
 "cells": [
  {
   "cell_type": "markdown",
   "id": "c716c2b6",
   "metadata": {},
   "source": [
    "## Standardization for Darcy2d (141 x 141)"
   ]
  },
  {
   "cell_type": "markdown",
   "id": "25c263b5",
   "metadata": {},
   "source": [
    "### Import Modules"
   ]
  },
  {
   "cell_type": "code",
   "execution_count": 1,
   "id": "bbb339f5",
   "metadata": {
    "scrolled": false
   },
   "outputs": [],
   "source": [
    "import torch\n",
    "import numpy as np\n",
    "import time\n",
    "from script.auxiliary import *\n",
    "from script.ReadMatFiles import MatReader\n",
    "from script.Normalization import get_pixelwise_standardization"
   ]
  },
  {
   "cell_type": "markdown",
   "id": "8cf61d50",
   "metadata": {},
   "source": [
    "### Measure Time"
   ]
  },
  {
   "cell_type": "code",
   "execution_count": 2,
   "id": "102bd148",
   "metadata": {},
   "outputs": [],
   "source": [
    "before_time = time.time()"
   ]
  },
  {
   "cell_type": "markdown",
   "id": "1bd2c330",
   "metadata": {},
   "source": [
    "### Load the Dataset"
   ]
  },
  {
   "cell_type": "code",
   "execution_count": 3,
   "id": "735871f1",
   "metadata": {
    "scrolled": true
   },
   "outputs": [
    {
     "name": "stdout",
     "output_type": "stream",
     "text": [
      "Resolution (241 or 421) : 421\n",
      "Downsampling Step : 3\n",
      "Resolution : 141 per each axis\n"
     ]
    }
   ],
   "source": [
    "s = int(input('Resolution (241 or 421) : ')) #resolution\n",
    "r = int(input('Downsampling Step : ')) #downsampling\n",
    "assert (s-1) % r == 0\n",
    "s_r = (s-1)//r + 1\n",
    "print('Resolution : {} per each axis'.format(s_r))"
   ]
  },
  {
   "cell_type": "code",
   "execution_count": 4,
   "id": "e76f8abc",
   "metadata": {},
   "outputs": [],
   "source": [
    "ntrain = 1000\n",
    "ntest = 200"
   ]
  },
  {
   "cell_type": "code",
   "execution_count": 5,
   "id": "ad3e4396",
   "metadata": {},
   "outputs": [],
   "source": [
    "#Train Dataset : normalize both x & y\n",
    "#Test Dataset : normalize only x (not y)\n",
    "reader = MatReader('./dataset/original_dataset/piececonst_r' + str(s) + '_N1024_smooth1.mat')\n",
    "u_train = reader.read_field('sol')[:ntrain,::r,::r][:,:s,:s] #(ntrain,s,s)\n",
    "a_train = reader.read_field('coeff')[:ntrain,::r,::r][:,:s,:s] #(ntrain,s,s)\n",
    "\n",
    "reader.load_file('./dataset/original_dataset/piececonst_r' + str(s) + '_N1024_smooth2.mat')\n",
    "u_test = reader.read_field('sol')[:ntest,::r,::r][:,:s,:s] #(ntest,s,s)\n",
    "a_test = reader.read_field('coeff')[:ntest,::r,::r][:,:s,:s] #(ntest,s,s)"
   ]
  },
  {
   "cell_type": "markdown",
   "id": "8e5ac6e0",
   "metadata": {},
   "source": [
    "### Standardization"
   ]
  },
  {
   "cell_type": "code",
   "execution_count": 6,
   "id": "e96be444",
   "metadata": {},
   "outputs": [],
   "source": [
    "u_train_standardized, u_train_mean, u_train_std = get_pixelwise_standardization(input_tensor=u_train, given_mean=None, given_std=None)\n",
    "a_train_standardized, a_train_mean, a_train_std = get_pixelwise_standardization(input_tensor=a_train, given_mean=None, given_std=None)"
   ]
  },
  {
   "cell_type": "code",
   "execution_count": 7,
   "id": "949208d2",
   "metadata": {},
   "outputs": [],
   "source": [
    "u_test_standardized, _, _ = get_pixelwise_standardization(input_tensor=u_test, given_mean=u_train_mean, given_std=u_train_std)\n",
    "a_test_standardized, _, _ = get_pixelwise_standardization(input_tensor=a_test, given_mean=a_train_mean, given_std=a_train_std)"
   ]
  },
  {
   "cell_type": "markdown",
   "id": "d60287e0",
   "metadata": {},
   "source": [
    "### Save"
   ]
  },
  {
   "cell_type": "code",
   "execution_count": 8,
   "id": "ffd72c36",
   "metadata": {},
   "outputs": [],
   "source": [
    "base_path = './dataset/preprocessed_dataset/'"
   ]
  },
  {
   "cell_type": "code",
   "execution_count": 9,
   "id": "81768dea",
   "metadata": {},
   "outputs": [],
   "source": [
    "#u\n",
    "torch.save(u_train_standardized, base_path+'u_train_standardized_{}.pt'.format(s_r))\n",
    "torch.save(u_train_mean, base_path+'u_train_mean_{}.pt'.format(s_r))\n",
    "torch.save(u_train_std, base_path+'u_train_std_{}.pt'.format(s_r))\n",
    "torch.save(u_test_standardized, base_path+'u_test_standardized_{}.pt'.format(s_r))"
   ]
  },
  {
   "cell_type": "code",
   "execution_count": 10,
   "id": "85ef52fe",
   "metadata": {},
   "outputs": [],
   "source": [
    "#a\n",
    "torch.save(a_train_standardized, base_path+'a_train_standardized_{}.pt'.format(s_r))\n",
    "torch.save(a_train_mean, base_path+'a_train_mean_{}.pt'.format(s_r))\n",
    "torch.save(a_train_std, base_path+'a_train_std_{}.pt'.format(s_r))\n",
    "torch.save(a_test_standardized, base_path+'a_test_standardized_{}.pt'.format(s_r))"
   ]
  },
  {
   "cell_type": "markdown",
   "id": "1aa03235",
   "metadata": {},
   "source": [
    "### Measure Time"
   ]
  },
  {
   "cell_type": "code",
   "execution_count": 11,
   "id": "926b8222",
   "metadata": {},
   "outputs": [
    {
     "name": "stdout",
     "output_type": "stream",
     "text": [
      "0hr 0min 30sec\n"
     ]
    }
   ],
   "source": [
    "after_time = time.time()\n",
    "how_long = int(after_time - before_time)\n",
    "print('{}hr {}min {}sec'.format(how_long//3600, (how_long%3600)//60, (how_long%3600)%60))"
   ]
  }
 ],
 "metadata": {
  "kernelspec": {
   "display_name": "Python 3 (ipykernel)",
   "language": "python",
   "name": "python3"
  },
  "language_info": {
   "codemirror_mode": {
    "name": "ipython",
    "version": 3
   },
   "file_extension": ".py",
   "mimetype": "text/x-python",
   "name": "python",
   "nbconvert_exporter": "python",
   "pygments_lexer": "ipython3",
   "version": "3.11.5"
  }
 },
 "nbformat": 4,
 "nbformat_minor": 5
}
